{
 "cells": [
  {
   "cell_type": "markdown",
   "metadata": {
    "tags": []
   },
   "source": [
    "### Benchmark SeismicPro methods\n",
    "\n",
    "| Function Name| Optimal target | Link |\n",
    "| :---:        | :----: |  :---:|\n",
    "|*__BATCH__*|||\n",
    "| \\_load_gather | for |[_load_gather](#load_gather)|\n",
    "| \\_load_combined_gather | for |  [_load_combined_gather](#load_combined_gather)|\n",
    "|*__GATHER__*|||\n",
    "| copy | threads | [copy](#copy) |\n",
    "| get_item | for | [get_item](#get_item) |\n",
    "| dump | for | [dump](#dump) |\n",
    "| sort | for | [sort](#sort) |\n",
    "| pick_to_mask | threads | [pick_to_mask](#pick_to_mask) |\n",
    "| mask_to_pick | for | [mask_to_pick](#mask_to_pick) |\n",
    "| mute | threads | [mute](#mute) |\n",
    "| calculate_semblance | threads | [calculate_semblance](#calculate_semblance) |\n",
    "| calculate_residual_semblance | threads | [calculate_residual_semblance](#calculate_residual_semblance) |\n",
    "| get_central_cdp | for | [get_central_cdp](#get_central_cdp) |\n",
    "| apply_nmo | threads | [apply_nmo](#apply_nmo) |\n",
    "| stack | for | [stack](#stack) |\n",
    "| scale_standard | threads | [scale_standard](#scale_standard) |\n",
    "| scale_maxabs | threads | [scale_maxabs](#scale_maxabs) |\n",
    "| scale_minmax | threads | [scale_minmax](#scale_minmax) |\n",
    "| crop | for | [crop](#crop) |\n",
    "| apply_agc | for | [apply_agc](#apply_agc) |\n",
    "| apply_sdc | for | [apply_sdc](#apply_sdc) |\n",
    "|*__SEMBLANCE__*|||\n",
    "| calculate_stacking_velocity | for | [calculate_stacking_velocity](#calculate_stacking_velocity) |\n",
    "|*__CROPPED GATHER__*|||\n",
    "| assemble_gather | threads | [assemble_gather](#assemble_gather) |\n",
    "\n",
    "\n",
    "All results are obtained for the following configuration:\n",
    "* CPU - Intel(R) Xeon(R) Gold 6242R CPU @ 3.10GHz x 20\n",
    "* 512 Gb RAM"
   ]
  },
  {
   "cell_type": "code",
   "execution_count": null,
   "metadata": {},
   "outputs": [],
   "source": [
    "import os\n",
    "import sys\n",
    "import dill\n",
    "import tempfile\n",
    "\n",
    "import numpy as np\n",
    "\n",
    "sys.path.insert(0, '../..')\n",
    "from seismicpro import SeismicDataset, Muter, StackingVelocity\n",
    "from seismicpro.src.const import DEFAULT_STACKING_VELOCITY\n",
    "from seismicpro.batchflow import Pipeline\n",
    "\n",
    "from benchmark import Benchmark\n",
    "from utils import make_benchmark_data"
   ]
  },
  {
   "cell_type": "markdown",
   "metadata": {},
   "source": [
    "Define constants"
   ]
  },
  {
   "cell_type": "code",
   "execution_count": null,
   "metadata": {},
   "outputs": [],
   "source": [
    "BATCH_SIZES = list(range(1, 11)) + list(range(20, 51, 10))\n",
    "N_ITERS = 10\n",
    "TARGETS = ('for', 'threads')\n",
    "SHUFFLE = 42\n",
    "\n",
    "stacking_velocity = DEFAULT_STACKING_VELOCITY"
   ]
  },
  {
   "cell_type": "markdown",
   "metadata": {},
   "source": [
    "Create temporary folder to store benchmark data and generate paths"
   ]
  },
  {
   "cell_type": "code",
   "execution_count": null,
   "metadata": {},
   "outputs": [],
   "source": [
    "tmp_dir = tempfile.TemporaryDirectory()\n",
    "DATA_PATH = os.path.join(tmp_dir.name, 'benchmark_data.sgy')\n",
    "DUMP_PATH = os.path.join(tmp_dir.name, 'dump')"
   ]
  },
  {
   "cell_type": "markdown",
   "metadata": {},
   "source": [
    "Create survey and the dataset"
   ]
  },
  {
   "cell_type": "code",
   "execution_count": null,
   "metadata": {},
   "outputs": [],
   "source": [
    "survey, supergather_survey = make_benchmark_data(DATA_PATH)"
   ]
  },
  {
   "cell_type": "code",
   "execution_count": null,
   "metadata": {
    "tags": []
   },
   "outputs": [],
   "source": [
    "dataset = SeismicDataset(surveys=survey)\n",
    "supergather_dataset = SeismicDataset(surveys=supergather_survey)\n",
    "\n",
    "load_pipeline = Pipeline().load(src='raw', fmt='sgy')\n",
    "sort_pipeline = load_pipeline + Pipeline().sort(src='raw', by='offset')"
   ]
  },
  {
   "cell_type": "code",
   "execution_count": null,
   "metadata": {},
   "outputs": [],
   "source": [
    "default_kwargs = dict(targets=TARGETS, batch_sizes=BATCH_SIZES, dataset=dataset)\n",
    "\n",
    "supergather_kwargs = default_kwargs.copy()\n",
    "supergather_kwargs.update(dataset=supergather_dataset)\n",
    "\n",
    "long_running_kwargs = default_kwargs.copy()\n",
    "long_running_kwargs.update(batch_sizes=BATCH_SIZES[:-3])"
   ]
  },
  {
   "cell_type": "markdown",
   "metadata": {},
   "source": [
    "### load_gather"
   ]
  },
  {
   "cell_type": "code",
   "execution_count": null,
   "metadata": {},
   "outputs": [],
   "source": [
    "load_bm = Benchmark(method_name='load', method_kwargs={'src':'raw'},\n",
    "                    root_pipeline=None, **default_kwargs)\n",
    "\n",
    "load_bm.run(n_iters=N_ITERS, shuffle=SHUFFLE).plot(cpu_util=True)"
   ]
  },
  {
   "cell_type": "markdown",
   "metadata": {},
   "source": [
    "### load_combined_gather"
   ]
  },
  {
   "cell_type": "code",
   "execution_count": null,
   "metadata": {},
   "outputs": [],
   "source": [
    "load_comb_bm = Benchmark(method_name='load', method_kwargs={'src':'raw', 'combined': True},\n",
    "                         root_pipeline=None, **default_kwargs)\n",
    "\n",
    "load_comb_bm.run(n_iters=N_ITERS, shuffle=SHUFFLE).plot(cpu_util=True)"
   ]
  },
  {
   "cell_type": "markdown",
   "metadata": {},
   "source": [
    "### copy"
   ]
  },
  {
   "cell_type": "code",
   "execution_count": null,
   "metadata": {},
   "outputs": [],
   "source": [
    "copy_bm = Benchmark(method_name='copy', method_kwargs={'src':'raw', 'dst':'rawraw'},\n",
    "                    root_pipeline=load_pipeline, **default_kwargs)\n",
    "\n",
    "copy_bm.run(n_iters=N_ITERS, shuffle=SHUFFLE).plot(cpu_util=True)"
   ]
  },
  {
   "cell_type": "markdown",
   "metadata": {},
   "source": [
    "### get_item"
   ]
  },
  {
   "cell_type": "code",
   "execution_count": null,
   "metadata": {},
   "outputs": [],
   "source": [
    "get_item_bm = Benchmark(method_name='get_item', method_args=([1, 2, 5], ), method_kwargs={'src':'raw'},\n",
    "                    root_pipeline=load_pipeline, **default_kwargs)\n",
    "\n",
    "get_item_bm.run(n_iters=N_ITERS, shuffle=SHUFFLE).plot(cpu_util=True)"
   ]
  },
  {
   "cell_type": "markdown",
   "metadata": {},
   "source": [
    "### dump"
   ]
  },
  {
   "cell_type": "code",
   "execution_count": null,
   "metadata": {
    "tags": []
   },
   "outputs": [],
   "source": [
    "dump_bm = Benchmark(method_name='dump', method_kwargs={'src':'raw', 'path':DUMP_PATH},\n",
    "                    root_pipeline=load_pipeline, **default_kwargs)\n",
    "\n",
    "dump_bm.run(n_iters=N_ITERS, shuffle=SHUFFLE).plot(cpu_util=True)"
   ]
  },
  {
   "cell_type": "markdown",
   "metadata": {},
   "source": [
    "### sort"
   ]
  },
  {
   "cell_type": "code",
   "execution_count": null,
   "metadata": {
    "tags": []
   },
   "outputs": [],
   "source": [
    "sort_bm = Benchmark(method_name='sort', method_kwargs={'src':'raw', 'by':'offset'},\n",
    "                    root_pipeline=load_pipeline, **default_kwargs)\n",
    "\n",
    "sort_bm.run(n_iters=N_ITERS, shuffle=SHUFFLE).plot(cpu_util=True)"
   ]
  },
  {
   "cell_type": "markdown",
   "metadata": {},
   "source": [
    "### pick_to_mask"
   ]
  },
  {
   "cell_type": "code",
   "execution_count": null,
   "metadata": {
    "tags": []
   },
   "outputs": [],
   "source": [
    "pcik_to_mask_bm = Benchmark(method_name='pick_to_mask', method_kwargs={'src':'raw'},\n",
    "                            root_pipeline=load_pipeline, **default_kwargs)\n",
    "\n",
    "pcik_to_mask_bm.run(n_iters=N_ITERS, shuffle=SHUFFLE).plot(cpu_util=True)"
   ]
  },
  {
   "cell_type": "markdown",
   "metadata": {},
   "source": [
    "### mask_to_pick"
   ]
  },
  {
   "cell_type": "code",
   "execution_count": null,
   "metadata": {
    "tags": []
   },
   "outputs": [],
   "source": [
    "mask_to_pick_ppl = load_pipeline + Pipeline().pick_to_mask(src='raw')\n",
    "mask_to_pick_bm = Benchmark(method_name='mask_to_pick', method_kwargs={'src':'raw', 'threshold':0.5},\n",
    "                            root_pipeline=mask_to_pick_ppl, **default_kwargs)\n",
    "\n",
    "mask_to_pick_bm.run(n_iters=N_ITERS, shuffle=SHUFFLE).plot(cpu_util=True)"
   ]
  },
  {
   "cell_type": "markdown",
   "metadata": {},
   "source": [
    "### mute"
   ]
  },
  {
   "cell_type": "code",
   "execution_count": null,
   "metadata": {
    "tags": []
   },
   "outputs": [],
   "source": [
    "muter = Muter.from_points(offsets=[1000, 2000, 3000], times=[100, 300, 600])\n",
    "mute_bm = Benchmark(method_name='mute', method_kwargs={'src': 'raw', 'muter': muter},\n",
    "                    root_pipeline=load_pipeline, **default_kwargs)\n",
    "\n",
    "mute_bm.run(n_iters=N_ITERS, shuffle=SHUFFLE).plot(cpu_util=True)"
   ]
  },
  {
   "cell_type": "markdown",
   "metadata": {},
   "source": [
    "### calculate_semblance"
   ]
  },
  {
   "cell_type": "code",
   "execution_count": null,
   "metadata": {
    "tags": []
   },
   "outputs": [],
   "source": [
    "semblance_kwargs = {'src': 'raw', 'velocities': np.linspace(1300, 5500, 140), 'win_size': 25}\n",
    "semblance_bm = Benchmark(method_name='calculate_semblance', method_kwargs=semblance_kwargs,\n",
    "                         root_pipeline=sort_pipeline, **long_running_kwargs)\n",
    "\n",
    "semblance_bm.run(n_iters=N_ITERS, shuffle=SHUFFLE).plot(cpu_util=True)"
   ]
  },
  {
   "cell_type": "markdown",
   "metadata": {},
   "source": [
    "### calculate_residual_semblance"
   ]
  },
  {
   "cell_type": "code",
   "execution_count": null,
   "metadata": {
    "tags": []
   },
   "outputs": [],
   "source": [
    "res_semblance_kwargs = {\n",
    "    'src': 'raw', \n",
    "    'stacking_velocity': stacking_velocity,\n",
    "    'n_velocities': 140, \n",
    "    'win_size': 25\n",
    "}\n",
    "\n",
    "res_semblance_bm = Benchmark(method_name='calculate_residual_semblance', method_kwargs=res_semblance_kwargs,\n",
    "                             root_pipeline=sort_pipeline, **long_running_kwargs)\n",
    "\n",
    "res_semblance_bm.run(n_iters=N_ITERS, shuffle=SHUFFLE).plot(cpu_util=True)"
   ]
  },
  {
   "cell_type": "markdown",
   "metadata": {},
   "source": [
    "### get_central_cdp"
   ]
  },
  {
   "cell_type": "code",
   "execution_count": null,
   "metadata": {
    "tags": []
   },
   "outputs": [],
   "source": [
    "get_central_cdp_bm = Benchmark(method_name='get_central_cdp', method_kwargs={'src':'raw'},\n",
    "                               root_pipeline=load_pipeline, **supergather_kwargs)\n",
    "\n",
    "get_central_cdp_bm.run(n_iters=N_ITERS, shuffle=SHUFFLE).plot(cpu_util=True)"
   ]
  },
  {
   "cell_type": "markdown",
   "metadata": {},
   "source": [
    "### apply_nmo"
   ]
  },
  {
   "cell_type": "code",
   "execution_count": null,
   "metadata": {
    "tags": []
   },
   "outputs": [],
   "source": [
    "apply_nmo_bm = Benchmark(method_name='apply_nmo', method_kwargs={'src': 'raw', 'stacking_velocity':stacking_velocity},\n",
    "                         root_pipeline=load_pipeline, **default_kwargs)\n",
    "apply_nmo_bm.run(n_iters=N_ITERS, shuffle=SHUFFLE).plot(cpu_util=True)"
   ]
  },
  {
   "cell_type": "markdown",
   "metadata": {},
   "source": [
    "### stack"
   ]
  },
  {
   "cell_type": "code",
   "execution_count": null,
   "metadata": {
    "tags": []
   },
   "outputs": [],
   "source": [
    "apply_nmo_bm = Benchmark(method_name='stack', method_kwargs={'src': 'raw'},\n",
    "                         root_pipeline=load_pipeline, **default_kwargs)\n",
    "apply_nmo_bm.run(n_iters=N_ITERS, shuffle=SHUFFLE).plot(cpu_util=True)"
   ]
  },
  {
   "cell_type": "markdown",
   "metadata": {},
   "source": [
    "### scale_standard\n"
   ]
  },
  {
   "cell_type": "code",
   "execution_count": null,
   "metadata": {
    "tags": []
   },
   "outputs": [],
   "source": [
    "scale_std_bm = Benchmark(method_name='scale_standard', method_kwargs={'src':'raw'},\n",
    "                         root_pipeline=load_pipeline, **default_kwargs)\n",
    "\n",
    "scale_std_bm.run(n_iters=N_ITERS, shuffle=SHUFFLE).plot(cpu_util=True)"
   ]
  },
  {
   "cell_type": "markdown",
   "metadata": {},
   "source": [
    "### scale_maxabs"
   ]
  },
  {
   "cell_type": "code",
   "execution_count": null,
   "metadata": {
    "tags": []
   },
   "outputs": [],
   "source": [
    "scale_maxabs_bm = Benchmark(method_name='scale_maxabs', method_kwargs={'src':'raw'},\n",
    "                            root_pipeline=load_pipeline, **long_running_kwargs)\n",
    "\n",
    "scale_maxabs_bm.run(n_iters=N_ITERS, shuffle=SHUFFLE).plot(cpu_util=True)"
   ]
  },
  {
   "cell_type": "markdown",
   "metadata": {},
   "source": [
    "### scale_minmax"
   ]
  },
  {
   "cell_type": "code",
   "execution_count": null,
   "metadata": {
    "tags": []
   },
   "outputs": [],
   "source": [
    "scale_minmax_bm = Benchmark(method_name='scale_minmax', method_kwargs={'src':'raw'},\n",
    "                            root_pipeline=load_pipeline, **long_running_kwargs)\n",
    "\n",
    "scale_minmax_bm.run(n_iters=N_ITERS, shuffle=SHUFFLE).plot(cpu_util=True)"
   ]
  },
  {
   "cell_type": "markdown",
   "metadata": {},
   "source": [
    "### crop"
   ]
  },
  {
   "cell_type": "code",
   "execution_count": null,
   "metadata": {
    "tags": []
   },
   "outputs": [],
   "source": [
    "method_kwargs = {'src': 'raw', 'crop_shape': (200, 500), 'origins': 'random', 'n_crops': 16}\n",
    "\n",
    "crop_bm = Benchmark(method_name='crop', method_kwargs=method_kwargs, root_pipeline=load_pipeline, **default_kwargs)\n",
    "\n",
    "crop_bm.run(n_iters=N_ITERS, shuffle=SHUFFLE).plot(cpu_util=True)"
   ]
  },
  {
   "cell_type": "markdown",
   "metadata": {},
   "source": [
    "### apply_agc"
   ]
  },
  {
   "cell_type": "code",
   "execution_count": null,
   "metadata": {},
   "outputs": [],
   "source": [
    "agc_bm = Benchmark(method_name='apply_agc', method_kwargs={'src': 'raw', 'mode':'abs'}, \n",
    "                   root_pipeline=load_pipeline, **default_kwargs)\n",
    "\n",
    "agc_bm.run(n_iters=N_ITERS, shuffle=SHUFFLE).plot(cpu_util=True)"
   ]
  },
  {
   "cell_type": "markdown",
   "metadata": {},
   "source": [
    "#### apply_sdc"
   ]
  },
  {
   "cell_type": "code",
   "execution_count": null,
   "metadata": {},
   "outputs": [],
   "source": [
    "sdc_bm = Benchmark(method_name='apply_sdc', method_kwargs={'src': 'raw'}, \n",
    "                   root_pipeline=load_pipeline, **default_kwargs)\n",
    "\n",
    "sdc_bm.run(n_iters=N_ITERS, shuffle=SHUFFLE).plot(cpu_util=True)"
   ]
  },
  {
   "cell_type": "markdown",
   "metadata": {},
   "source": [
    "### calculate_stacking_velocity"
   ]
  },
  {
   "cell_type": "code",
   "execution_count": null,
   "metadata": {
    "tags": []
   },
   "outputs": [],
   "source": [
    "stacking_velocity_pipeline = sort_pipeline + Pipeline().calculate_semblance(src=\"raw\", velocities=np.linspace(1400, 5000, 150), dst=\"semb\")\n",
    "method_kwargs = {'src': 'semb', 'start_velocity_range': (1400, 1800), 'end_velocity_range': (3500, 5000)}\n",
    "\n",
    "stacking_velocity_bm = Benchmark(method_name='calculate_stacking_velocity', method_kwargs=method_kwargs,\n",
    "                                 root_pipeline=stacking_velocity_pipeline, **default_kwargs)\n",
    "\n",
    "stacking_velocity_bm.run(n_iters=N_ITERS, shuffle=SHUFFLE).plot(cpu_util=True)"
   ]
  },
  {
   "cell_type": "markdown",
   "metadata": {},
   "source": [
    "### assemble_gather"
   ]
  },
  {
   "cell_type": "code",
   "execution_count": null,
   "metadata": {},
   "outputs": [],
   "source": [
    "crop_grid_pipeline = load_pipeline + Pipeline().crop(src='raw', dst='cropped', origins='grid', crop_shape=(200, 500))\n",
    "\n",
    "assemble_bm = Benchmark(method_name='assemble_gather', method_kwargs={'src': 'cropped'}, \n",
    "                        root_pipeline=crop_grid_pipeline, **default_kwargs)\n",
    "\n",
    "assemble_bm.run(n_iters=N_ITERS, shuffle=SHUFFLE).plot(cpu_util=True)"
   ]
  },
  {
   "cell_type": "markdown",
   "metadata": {},
   "source": [
    "Destroy temporary folder"
   ]
  },
  {
   "cell_type": "code",
   "execution_count": null,
   "metadata": {},
   "outputs": [],
   "source": [
    "tmp_dir.close()"
   ]
  }
 ],
 "metadata": {
  "kernelspec": {
   "display_name": "Python 3 (ipykernel)",
   "language": "python",
   "name": "python3"
  },
  "language_info": {
   "codemirror_mode": {
    "name": "ipython",
    "version": 3
   },
   "file_extension": ".py",
   "mimetype": "text/x-python",
   "name": "python",
   "nbconvert_exporter": "python",
   "pygments_lexer": "ipython3",
   "version": "3.8.10"
  }
 },
 "nbformat": 4,
 "nbformat_minor": 4
}
